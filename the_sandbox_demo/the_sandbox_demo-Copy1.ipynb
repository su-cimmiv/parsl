{
 "cells": [
  {
   "cell_type": "markdown",
   "id": "prepared-reform",
   "metadata": {},
   "source": [
    "# Parallel dataflows\n",
    "\n",
    "##### Parallel dataflows can be developed by passing data between Apps. \n",
    "###### This example is taken from the Parsl documentation ( section Parallel Dataflow).\n",
    "###### In this example we create a set of files, each with a random number, \n",
    "###### we then concatenate these files into a single file and compute the sum of all numbers in that file.\n",
    "\n",
    "###### The files will be created with the sandbox_app.\n",
    "###### The transfer of files between apps is done through the use of the workflow: // schema"
   ]
  },
  {
   "cell_type": "code",
   "execution_count": 1,
   "id": "ordinary-russian",
   "metadata": {},
   "outputs": [
    {
     "name": "stdout",
     "output_type": "stream",
     "text": [
      "1.1.0a1\n"
     ]
    }
   ],
   "source": [
    "import parsl\n",
    "from parsl.app.app import sandbox_app, python_app, bash_app\n",
    "from parsl.data_provider.files import File\n",
    "import os\n",
    "\n",
    "print(parsl.version.VERSION)"
   ]
  },
  {
   "cell_type": "code",
   "execution_count": 2,
   "id": "applied-radius",
   "metadata": {},
   "outputs": [],
   "source": [
    "parsl.workflow_load()\n",
    "parsl.workflow_name_setter(\"prova\")"
   ]
  },
  {
   "cell_type": "code",
   "execution_count": 3,
   "id": "searching-benefit",
   "metadata": {},
   "outputs": [],
   "source": [
    "# @sandbox_app()\n",
    "# def echo(args,workflow_app_name=\"\"):\n",
    "#     return 'sleep {};echo oeoeoe > out.txt'.format(str(args))"
   ]
  },
  {
   "cell_type": "code",
   "execution_count": 4,
   "id": "amended-velvet",
   "metadata": {},
   "outputs": [],
   "source": [
    "# @sandbox_app()\n",
    "# def cat(workflow_app_name=\"\", inputs=[]):\n",
    "#     return 'cat {} > out.txt'.format(inputs[0])"
   ]
  },
  {
   "cell_type": "code",
   "execution_count": 5,
   "id": "metropolitan-parallel",
   "metadata": {},
   "outputs": [],
   "source": [
    "# x = echo(1,workflow_app_name=\"roastbeef010\")"
   ]
  },
  {
   "cell_type": "code",
   "execution_count": 6,
   "id": "mounted-torture",
   "metadata": {},
   "outputs": [],
   "source": [
    "# y = cat(workflow_app_name = \"roastbeef011\",inputs=[x.workflow_schema+\"/out.txt\"])\n",
    "# print(y.workflow_schema)"
   ]
  },
  {
   "cell_type": "code",
   "execution_count": 7,
   "id": "encouraging-chambers",
   "metadata": {},
   "outputs": [],
   "source": [
    "# print(x.result()['working_directory'])\n"
   ]
  },
  {
   "cell_type": "code",
   "execution_count": 8,
   "id": "latter-margin",
   "metadata": {},
   "outputs": [],
   "source": [
    "# print(y.workflow_schema)"
   ]
  },
  {
   "cell_type": "code",
   "execution_count": 9,
   "id": "intermediate-piece",
   "metadata": {},
   "outputs": [],
   "source": [
    "# from parsl.dataflow.wflow import WorkflowLoader\n",
    "# dfk = WorkflowLoader.dfk()"
   ]
  },
  {
   "cell_type": "code",
   "execution_count": 10,
   "id": "second-lucas",
   "metadata": {},
   "outputs": [],
   "source": [
    "# print(parsl.workflow_name() == \"\")"
   ]
  },
  {
   "cell_type": "code",
   "execution_count": 11,
   "id": "enhanced-linux",
   "metadata": {},
   "outputs": [
    {
     "name": "stdout",
     "output_type": "stream",
     "text": [
      "<AppFuture super=<AppFuture at 0x7fbb3a570490 state=finished returned dict>>\n",
      "<AppFuture super=<AppFuture at 0x7fbb3a578310 state=finished returned dict>>\n"
     ]
    }
   ],
   "source": [
    "@sandbox_app()\n",
    "def generate(args,workflow_app_name =\"\"):\n",
    "    return \"sleep {}; echo $(( RANDOM )) &> out.txt\".format(str(args))\n",
    "# App that concatenates input files into a single output file\n",
    "@sandbox_app()\n",
    "def concat(inputs=[], workflow_app_name=\"\"):\n",
    "    return \"cat {0} > out.txt\".format(\" \".join([i for i in inputs]))\n",
    "# App that calculates the sum of values in a list of input files\n",
    "@python_app\n",
    "def total(workflow_app_name = \"\", inputs=[]):\n",
    "    total = 0\n",
    "    with open(inputs[0], 'r') as f:\n",
    "        for l in f:\n",
    "            total += int(l)\n",
    "    return total\n",
    "# Create 5 files with semi-random numbers in parallel\n",
    "output_files = []\n",
    "for i in range (2):\n",
    "    output_files.append(generate(str(i),workflow_app_name = \"G-{}\".format(str(i))))\n",
    "# Concatenate the files into a single file\n",
    "cc = concat(inputs=[i.workflow_schema+\"/out.txt\" for i in output_files])\n"
   ]
  }
 ],
 "metadata": {
  "kernelspec": {
   "display_name": "Python 3",
   "language": "python",
   "name": "python3"
  },
  "language_info": {
   "codemirror_mode": {
    "name": "ipython",
    "version": 3
   },
   "file_extension": ".py",
   "mimetype": "text/x-python",
   "name": "python",
   "nbconvert_exporter": "python",
   "pygments_lexer": "ipython3",
   "version": "3.8.5"
  }
 },
 "nbformat": 4,
 "nbformat_minor": 5
}
