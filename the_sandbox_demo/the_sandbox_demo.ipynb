{
 "cells": [
  {
   "cell_type": "markdown",
   "id": "prepared-reform",
   "metadata": {},
   "source": [
    "# Parallel dataflows\n",
    "\n",
    "##### Parallel dataflows can be developed by passing data between Apps. \n",
    "###### This example is taken from the Parsl documentation ( section Parallel Dataflow).\n",
    "###### In this example we create a set of files, each with a random number, \n",
    "###### we then concatenate these files into a single file and compute the sum of all numbers in that file.\n",
    "\n",
    "###### The files will be created with the sandbox_app.\n",
    "###### The transfer of files between apps is done through the use of the workflow: // schema"
   ]
  },
  {
   "cell_type": "code",
   "execution_count": 1,
   "id": "ordinary-russian",
   "metadata": {},
   "outputs": [
    {
     "name": "stdout",
     "output_type": "stream",
     "text": [
      "1.1.0a1\n"
     ]
    }
   ],
   "source": [
    "import parsl\n",
    "from parsl.app.app import sandbox_app, python_app\n",
    "from parsl.data_provider.files import File\n",
    "import os\n",
    "\n",
    "print(parsl.version.VERSION)"
   ]
  },
  {
   "cell_type": "code",
   "execution_count": 2,
   "id": "applied-radius",
   "metadata": {},
   "outputs": [],
   "source": [
    "parsl.load()\n",
    "project=\"helloSandbox\""
   ]
  },
  {
   "cell_type": "code",
   "execution_count": 3,
   "id": "mobile-statement",
   "metadata": {},
   "outputs": [],
   "source": [
    "# The first sandbox_app()\n",
    "# this app generates a semi-random number ( between 0 and 32,767 ) and saves it to a file.\n",
    "\n",
    "@sandbox_app()\n",
    "def generate(project=project):\n",
    "    return \"echo $(( RANDOM )) &> out.txt\"\n"
   ]
  },
  {
   "cell_type": "code",
   "execution_count": 4,
   "id": "coupled-ghost",
   "metadata": {},
   "outputs": [],
   "source": [
    "#The second sandbox_app()\n",
    "#this app concatenates input files into a single output file\n",
    "#Only the workflow://schema is passed to the app\n",
    "@sandbox_app()\n",
    "def concat(inputs=[],project=project):\n",
    "    return \"cat {0} > out.txt\".format(\" \".join([i for i in inputs]))"
   ]
  },
  {
   "cell_type": "code",
   "execution_count": 5,
   "id": "military-cattle",
   "metadata": {},
   "outputs": [],
   "source": [
    "# App that calculates the sum of values in a list of input files\n",
    "@python_app\n",
    "def total(inputs=[]):\n",
    "    total = 0\n",
    "    with open(inputs[0], 'r') as f:\n",
    "        for l in f:\n",
    "            total += int(l)\n",
    "    return total"
   ]
  },
  {
   "cell_type": "code",
   "execution_count": 6,
   "id": "saving-cooking",
   "metadata": {},
   "outputs": [],
   "source": [
    "output_files = []\n",
    "\n",
    "for i in range (2):\n",
    "    output_files.append(generate())"
   ]
  },
  {
   "cell_type": "code",
   "execution_count": 7,
   "id": "cooked-delivery",
   "metadata": {},
   "outputs": [],
   "source": [
    "# Concatenate the files into a single file passing workflow_schema\n",
    "\n",
    "cc = concat(inputs=[i.workflow_schema+\"/out.txt\" for i in output_files])"
   ]
  },
  {
   "cell_type": "code",
   "execution_count": 8,
   "id": "steady-nothing",
   "metadata": {},
   "outputs": [
    {
     "name": "stdout",
     "output_type": "stream",
     "text": [
      "48433\n"
     ]
    }
   ],
   "source": [
    "# Calculate the sum of the random numbers\n",
    "total = total(inputs=[File(project+\"/\"+cc.workflow_schema.replace(\"workflow://\",\"\")+\"/out.txt\")])\n",
    "print (total.result())\n"
   ]
  }
 ],
 "metadata": {
  "kernelspec": {
   "display_name": "Python 3",
   "language": "python",
   "name": "python3"
  },
  "language_info": {
   "codemirror_mode": {
    "name": "ipython",
    "version": 3
   },
   "file_extension": ".py",
   "mimetype": "text/x-python",
   "name": "python",
   "nbconvert_exporter": "python",
   "pygments_lexer": "ipython3",
   "version": "3.8.5"
  }
 },
 "nbformat": 4,
 "nbformat_minor": 5
}
