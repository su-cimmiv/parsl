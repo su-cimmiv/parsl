{
 "cells": [
  {
   "cell_type": "markdown",
   "id": "prepared-reform",
   "metadata": {},
   "source": [
    "# Parallel dataflows\n",
    "\n",
    "##### Parallel dataflows can be developed by passing data between Apps. \n",
    "###### This example is taken from the Parsl documentation ( section Parallel Dataflow).\n",
    "###### In this example we create a set of files, each with a random number, \n",
    "###### we then concatenate these files into a single file and compute the sum of all numbers in that file.\n",
    "\n",
    "###### The files will be created with the sandbox_app.\n",
    "###### The transfer of files between apps is done through the use of the workflow: // schema"
   ]
  },
  {
   "cell_type": "code",
   "execution_count": 1,
   "id": "ordinary-russian",
   "metadata": {},
   "outputs": [
    {
     "name": "stdout",
     "output_type": "stream",
     "text": [
      "1.1.0a1\n"
     ]
    }
   ],
   "source": [
    "import parsl\n",
    "from parsl.app.app import sandbox_app, python_app, bash_app\n",
    "from parsl.data_provider.files import File\n",
    "import os\n",
    "\n",
    "print(parsl.version.VERSION)"
   ]
  },
  {
   "cell_type": "code",
   "execution_count": 2,
   "id": "applied-radius",
   "metadata": {},
   "outputs": [
    {
     "data": {
      "text/plain": [
       "<parsl.dataflow.dflow.DataFlowKernel at 0x7f4d2871cdc0>"
      ]
     },
     "execution_count": 2,
     "metadata": {},
     "output_type": "execute_result"
    }
   ],
   "source": [
    "parsl.load()"
   ]
  },
  {
   "cell_type": "code",
   "execution_count": 3,
   "id": "fresh-novel",
   "metadata": {},
   "outputs": [],
   "source": [
    "parsl.dfk().workflow_name=\"helloSandbox\""
   ]
  },
  {
   "cell_type": "code",
   "execution_count": 4,
   "id": "enhanced-linux",
   "metadata": {},
   "outputs": [],
   "source": [
    "#App that generates a semi-random number (between 0 and 32.76)\n",
    "\n",
    "@sandbox_app()\n",
    "def generate(args,workflow_app_name =\"\"):\n",
    "    return \"sleep {}; echo $(( RANDOM )) &> out.txt\".format(str(args))\n",
    "\n",
    "\n",
    "# App that concatenates input files into a single output file\n",
    "@sandbox_app()\n",
    "def concat(inputs=[], workflow_app_name=\"\"):\n",
    "    return \"cat {0} > out.txt\".format(\" \".join([i for i in inputs]))"
   ]
  },
  {
   "cell_type": "code",
   "execution_count": 5,
   "id": "inner-stack",
   "metadata": {},
   "outputs": [],
   "source": [
    "# Create 5 files with semi-random numbers in parallel\n",
    "output_files = []\n",
    "for i in range (5):\n",
    "    output_files.append(generate(str(i+10),workflow_app_name = \"G-{}\".format(str(i))))"
   ]
  },
  {
   "cell_type": "code",
   "execution_count": 6,
   "id": "textile-silence",
   "metadata": {},
   "outputs": [
    {
     "name": "stdout",
     "output_type": "stream",
     "text": [
      "workflow://helloSandbox/G-0\n",
      "workflow://helloSandbox/G-1\n",
      "workflow://helloSandbox/G-2\n",
      "workflow://helloSandbox/G-3\n",
      "workflow://helloSandbox/G-4\n"
     ]
    }
   ],
   "source": [
    "for i in range(len(output_files)):\n",
    "    print(output_files[i].workflow_schema)"
   ]
  },
  {
   "cell_type": "code",
   "execution_count": 7,
   "id": "corresponding-bottom",
   "metadata": {},
   "outputs": [],
   "source": [
    "# # Concatenate the files into a single file\n",
    "cc = concat(inputs=[i.workflow_schema+\"/out.txt\" for i in output_files])"
   ]
  },
  {
   "cell_type": "code",
   "execution_count": 8,
   "id": "after-deviation",
   "metadata": {},
   "outputs": [
    {
     "name": "stdout",
     "output_type": "stream",
     "text": [
      "78199\n"
     ]
    }
   ],
   "source": [
    "# App that calculates the sum of values in a list of input files\n",
    "@python_app\n",
    "def total(inputs=[]):\n",
    "    def workflow_schema_resolver(inFile):\n",
    "        inFile = inFile.replace(parsl.dfk().SCHEMA,\"\")\n",
    "        filepath = inFile\n",
    "        inFile = inFile.split(\"/\")\n",
    "        filepath = filepath.replace(inFile[1],parsl.dfk()._find_task_by_name(inFile[1])['app_fu'].result()['working_directory'])\n",
    "        return filepath\n",
    "    total = 0\n",
    "    with open(workflow_schema_resolver(inputs[0]), 'r') as f:\n",
    "        for l in f:\n",
    "            total += int(l)\n",
    "    return total\n",
    "\n",
    "print(total(inputs = [cc.workflow_schema+\"/out.txt\"]).result())"
   ]
  }
 ],
 "metadata": {
  "kernelspec": {
   "display_name": "Python 3",
   "language": "python",
   "name": "python3"
  },
  "language_info": {
   "codemirror_mode": {
    "name": "ipython",
    "version": 3
   },
   "file_extension": ".py",
   "mimetype": "text/x-python",
   "name": "python",
   "nbconvert_exporter": "python",
   "pygments_lexer": "ipython3",
   "version": "3.8.5"
  }
 },
 "nbformat": 4,
 "nbformat_minor": 5
}
